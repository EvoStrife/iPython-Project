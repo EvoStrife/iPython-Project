{
 "metadata": {
  "kernelspec": {
   "codemirror_mode": {
    "name": "ipython",
    "version": 2
   },
   "display_name": "IPython (Python 2)",
   "language": "python",
   "name": "python2"
  },
  "name": "",
  "signature": "sha256:fef92d656546c1be28a72d761abf7fd0be49af79ce351808b3e763a22fd8e1bc"
 },
 "nbformat": 3,
 "nbformat_minor": 0,
 "worksheets": [
  {
   "cells": [
    {
     "cell_type": "code",
     "collapsed": false,
     "input": [
      "%matplotlib inline\n",
      "import matplotlib.pyplot as plt\n",
      "import numpy as np\n",
      "import pandas as pd\n",
      "import seaborn as sns\n",
      "from scipy import stats\n",
      "from __future__ import print_function\n",
      "flights = pd.read_csv('CleanData\\\\SFOFlights2005to2014Clean.csv')\n",
      "customer = pd.read_csv('CleanData\\\\2011CustomerClean.csv')\n",
      "customer_12 = pd.read_csv('CleanData\\\\2012CustomerClean.csv')\n",
      "customer_13 = pd.read_csv('CleanData\\\\2013CustomerClean.csv')"
     ],
     "language": "python",
     "metadata": {},
     "outputs": [],
     "prompt_number": 1
    },
    {
     "cell_type": "markdown",
     "metadata": {},
     "source": [
      "#SFO Analytics"
     ]
    },
    {
     "cell_type": "markdown",
     "metadata": {},
     "source": [
      "San Francisco International Airport has been hailed as one of the best airports in the world. Well, if that's the case, then what exactly makes it so great? To answer this we harvested SFO passenger flight information and customer survey data, and dug for answers."
     ]
    },
    {
     "cell_type": "markdown",
     "metadata": {},
     "source": [
      "<b>The Team:</b>\n",
      "1. Anand Ramchandani\n",
      "2. Harrison Ng\n",
      "3. Manishkant Mahto\n",
      "4. Shalmali Pisal"
     ]
    },
    {
     "cell_type": "markdown",
     "metadata": {},
     "source": [
      "I am sure every one is planning a vacation for christmas break. You will be flying to various destinations. How many of you have choose to fly from SFO?  Most of you chose coz it being the closest but what do you know more about SFO? Do you know SFO is regarded as one of the best airport in the world and they have won several awards over a period of time for the facilities, \n",
      "amenities. To analyze this we harvested SFO dataset "
     ]
    },
    {
     "cell_type": "heading",
     "level": 3,
     "metadata": {},
     "source": [
      "Dataset 1: SFO Passenger Flight Information (2005-2014)"
     ]
    },
    {
     "cell_type": "markdown",
     "metadata": {},
     "source": [
      "SFO Passengers: The passenger flight dataset contains monthly passenger traffic in and out of SFO. This is aggregate numbers, but still grouped by Airline, Destination, Month, and Year."
     ]
    },
    {
     "cell_type": "markdown",
     "metadata": {},
     "source": [
      "**Some notable columns:**<p>\n",
      "* Operating Airline: The airline which carried the passenger\n",
      "* Adjusted Passenger Count: SFO's way of counting passengers -- #Enplaning + #Deplaning\n",
      "* GEO Summary/Region: Where the flight is coming/going\n",
      "* Price Category Code: Either low fare or regular\n",
      "* Terminal/Boarding Area: Where the flights docked for passengers"
     ]
    },
    {
     "cell_type": "heading",
     "level": 3,
     "metadata": {},
     "source": [
      "Dataset 2: SFO Customer Surveys (2011-2013)"
     ]
    },
    {
     "cell_type": "markdown",
     "metadata": {},
     "source": [
      "SFO Customer Survey: These passenger datasets contain data pertaining to customer demographics and satisfaction with Airport facilities, services, and initiatives.<p>\n",
      "It contains data that is collected by interviewing 3872 passengers in each of SFO\u2019s terminals and boarding areas. Customers were asked to rate and report on the airport based on a wide variety of categories, including 6 cleanliness ratings, 14 facility quality questions, and other questions like how did they get there, and if they made a restaurant purchase. Additional data collected include customer spending behavior, mode of arrival to the Airport, awareness of SFO initiatives, and many other categories"
     ]
    },
    {
     "cell_type": "markdown",
     "metadata": {},
     "source": [
      "**Some notable columns:**<p>\n",
      "* Airline: This is the field we would use to merge the two data sets together\n",
      "* Latecode: The current on-time status of the customer's flight\n",
      "* Destgeo: A numeric code for the flight destination\n",
      "* Home: Another numeric code, this time for where the customer lives \n",
      "* Q21: Customer household income\n",
      "* Q8(a-n): SFO amenity rating\n",
      "* Q10(a-f): SFO cleanliness ratings\n",
      "* Q11: Safety"
     ]
    },
    {
     "cell_type": "heading",
     "level": 3,
     "metadata": {},
     "source": [
      "Now that we know what our data sets consist of, what are some things we can look at?"
     ]
    },
    {
     "cell_type": "markdown",
     "metadata": {},
     "source": [
      "Well, lets start off and try to take a look at a few simple things:<p>\n",
      "1. SFO's Passengers, if SFO is truly as great as they say they are, does it show with customers?\n",
      "2. SFO's Amenities: How are SFO's amenities holding up over the years? Is there anything severely lacking from SFO?\n",
      "3. SFO's Cleanliness: How does SFO's cleanliness hold up to the increased traffic? Do different demographics view SFO's cleanliness differently?"
     ]
    },
    {
     "cell_type": "markdown",
     "metadata": {},
     "source": [
      "#Question 1: SFO Passengers"
     ]
    },
    {
     "cell_type": "markdown",
     "metadata": {},
     "source": [
      "With this question we are trying to find a Least Square Regression between Years and Totoal number of Passenger Count and see what the trend looks from Year 2005-2014, and check whether there is any co relation between those two parameters."
     ]
    },
    {
     "cell_type": "code",
     "collapsed": false,
     "input": [
      "%matplotlib inline\n",
      "import matplotlib.pyplot as plt\n",
      "import seaborn\n",
      "import numpy as np\n",
      "from scipy import stats\n",
      "import pandas as pd\n",
      "from __future__ import print_function"
     ],
     "language": "python",
     "metadata": {},
     "outputs": [],
     "prompt_number": 2
    },
    {
     "cell_type": "code",
     "collapsed": false,
     "input": [
      "df= pd.read_csv('CleanData\\\\SFOFlights2005to2014Clean.csv')"
     ],
     "language": "python",
     "metadata": {},
     "outputs": [],
     "prompt_number": 3
    },
    {
     "cell_type": "markdown",
     "metadata": {},
     "source": [
      "To calculate total number of passenger from year 2005-2014 we have grouped the data by year and Adjusted Passenger Count,\n",
      "which will give us how many customers are flying each year from 2005 to 2014.\n",
      "We have showed that by plotting a Scatter plot by Year on X-axis and Total Passenger Count on Y-axis.\n",
      "\n",
      "Assumption: \n",
      "The Dataset we have is from 2005-2014 where the total passenger count in 2005 and 2014 are not complete, because the data \n",
      "of 2014 is still not updated and for year 2005 it starts from month July to Decemeber and not from January. "
     ]
    },
    {
     "cell_type": "heading",
     "level": 3,
     "metadata": {},
     "source": [
      "Grouping Data and Histogram"
     ]
    },
    {
     "cell_type": "code",
     "collapsed": false,
     "input": [
      "ByYear = df.groupby(['Year']).sum()\n",
      "ByYear = ByYear.ix[:,2:]\n",
      "np.array(ByYear['Adjusted Passenger Count'])\n",
      "ByYear = ByYear.reindex (columns = ['Years','Adjusted Passenger Count'])\n",
      "ByYear.Years = [2005,2006,2007,2008,2009,2010,2011,2012,2013,2014]\n",
      "ByYear1 = pd.DataFrame(ByYear)"
     ],
     "language": "python",
     "metadata": {},
     "outputs": [],
     "prompt_number": 4
    },
    {
     "cell_type": "code",
     "collapsed": false,
     "input": [
      "ByYear1.plot(kind='bar',y='Adjusted Passenger Count',x='Years',color='c')\n",
      "plt.xlabel('Year')\n",
      "plt.ylabel('Total Passenger Count in 10 Mn')\n",
      "plt.title('Histogram Showing Total Passenger Count versus Year');"
     ],
     "language": "python",
     "metadata": {},
     "outputs": [
      {
       "metadata": {},
       "output_type": "display_data",
       "png": "[encoded data removed]",
       "text": [
        "<matplotlib.figure.Figure at 0x171b7fd0>"
       ]
      }
     ],
     "prompt_number": 5
    },
    {
     "cell_type": "code",
     "collapsed": false,
     "input": [
      "count1= np.array(ByYear1['Adjusted Passenger Count'])\n",
      "count1 = count1.astype(np.float32)\n",
      "years1=np.array(ByYear1['Years'])\n",
      "years1 = years1.astype(np.int)"
     ],
     "language": "python",
     "metadata": {},
     "outputs": [],
     "prompt_number": 6
    },
    {
     "cell_type": "markdown",
     "metadata": {},
     "source": [
      "Now, we have put the two parameters in an array to calculate Least Square Regreesion"
     ]
    },
    {
     "cell_type": "heading",
     "level": 3,
     "metadata": {},
     "source": [
      "Calculating Least Square Regression \n",
      "Returns: Slope, Intercept,p-value,R square"
     ]
    },
    {
     "cell_type": "code",
     "collapsed": false,
     "input": [
      "a= count1\n",
      "b= years1\n",
      "\n",
      "slope, intercept, r_value, p_value, std_err = stats.linregress(b,a)\n",
      "print (\"=============================================\")\n",
      "print(\"Slope- \" + str(slope))\n",
      "print(\"Intercept\" + str(intercept))\n",
      "print(\"r_value- \" + str(r_value))\n",
      "print(\"p_value: \" + str(p_value))\n",
      "print(\"R square: \" + str(r_value*r_value))\n",
      "print (\"=============================================\")\n",
      "ByYear1.plot(kind='scatter',y='Adjusted Passenger Count',x='Years',color='crimson')\n",
      "rating= np.linspace(2005,2014,9)             \n",
      "plt.plot(rating,intercept + (slope*rating), 'b')\n",
      "plt.axis([2004,2016,1500000,46000000])\n",
      "plt.xlabel('Year')\n",
      "plt.ylabel('Total Passenger Count in 10 Mn')\n",
      "plt.title('Regression plot for total Passengers Over the Years');\n"
     ],
     "language": "python",
     "metadata": {},
     "outputs": [
      {
       "output_type": "stream",
       "stream": "stdout",
       "text": [
        "=============================================\n",
        "Slope- 1820628.24242\n",
        "Intercept-3621838465.15\n",
        "r_value- 0.710383057651\n",
        "p_value: 0.021320441977\n",
        "R square: 0.504644088598\n",
        "=============================================\n"
       ]
      },
      {
       "metadata": {},
       "output_type": "display_data",
       "png": "[encoded data removed]",
       "text": [
        "<matplotlib.figure.Figure at 0x177a6748>"
       ]
      }
     ],
     "prompt_number": 7
    },
    {
     "cell_type": "markdown",
     "metadata": {},
     "source": [
      "From the above graph and values we can conclude that we got a strong co-relation between Total number of Passenger Count over \n",
      "the years. \n",
      "Blue line shows the Regression line where we can see that the trend is increasing evert year and is expected to continue in the\n",
      "coming few years. \n",
      "\n",
      "Here, Year is an independent variable and Total Passenger Count is Dependent. We can see that in year 2009 the Total passenger \n",
      "flying went down because of Economic Recession, but SFO still maintain the total count and it went up in 2010. "
     ]
    },
    {
     "cell_type": "markdown",
     "metadata": {},
     "source": [
      "#Question 2: SFO Amenities"
     ]
    },
    {
     "cell_type": "markdown",
     "metadata": {},
     "source": [
      "SFO is one of the best airports in the world and has consistently won awards for its facilities, services, infrastructure. To name a few awards - SFO named \u201cbest airport\u201d by Outside Magazine , \u2018Best Airport in NorthAmerica\u2019 - Skytrax. To find the trueness of this we analyzed the passenger outlook towards SFO with different parameters.  "
     ]
    },
    {
     "cell_type": "code",
     "collapsed": false,
     "input": [
      "questions = ['SFORate-Restaurants','SFORate-Stores','SFORate-Signs','SFORate-MovingWalkways','SFORate-ScreenInformation',\n",
      "           'SFORate-InformationBooths(Lower)','SFORate-InformationBooths(Upper)','SFORate-ParkingFacilities']"
     ],
     "language": "python",
     "metadata": {},
     "outputs": [],
     "prompt_number": 8
    },
    {
     "cell_type": "code",
     "collapsed": false,
     "input": [
      "survey_2011 = customer[questions]\n",
      "survey_2012 = customer_12[questions]\n",
      "survey_2013 = customer_13[questions] "
     ],
     "language": "python",
     "metadata": {},
     "outputs": [],
     "prompt_number": 9
    },
    {
     "cell_type": "markdown",
     "metadata": {},
     "source": [
      "<b>Data Aggregation<b>"
     ]
    },
    {
     "cell_type": "markdown",
     "metadata": {},
     "source": [
      "In Data Aggregation we have aggregated the different Amentites like Food,Shop,SIgns,Walkways,Screens Based on each Year of Customer \n",
      "Survey data and then calculated the Mean from a scale of 1 to 5 where 1 represents worst and 5 represnts best experience"
     ]
    },
    {
     "cell_type": "code",
     "collapsed": false,
     "input": [
      "s1_food = customer['SFORate-Restaurants'].mean()\n",
      "s1_shop = customer['SFORate-Stores'].mean()\n",
      "s1_signs = customer['SFORate-Signs'].mean()\n",
      "s1_walk = customer['SFORate-MovingWalkways'].mean()\n",
      "s1_screens = customer['SFORate-ScreenInformation'].mean()\n",
      "s1_infoarr = customer['SFORate-InformationBooths(Lower)'].mean()\n",
      "s1_infodep = customer['SFORate-InformationBooths(Upper)'].mean()\n",
      "s1_park = customer['SFORate-ParkingFacilities'].mean()\n",
      "info11 = s1_infoarr + s1_infodep\n",
      "info1 = info11/2\n",
      "mean1 = pd.DataFrame([s1_food,s1_shop,s1_signs,s1_walk,s1_screens,info1,s1_park], index=['Food','Shop',\n",
      "                                                                   'Signs','Walkways',\n",
      "                                                                   'Screens','Information','Parking'], columns=['2011'])\n"
     ],
     "language": "python",
     "metadata": {},
     "outputs": [],
     "prompt_number": 10
    },
    {
     "cell_type": "code",
     "collapsed": false,
     "input": [
      "s2_food = customer_12['SFORate-Restaurants'].mean()\n",
      "s2_shop = customer_12['SFORate-Stores'].mean()\n",
      "s2_signs = customer_12['SFORate-Signs'].mean()\n",
      "s2_walk = customer_12['SFORate-MovingWalkways'].mean()\n",
      "s2_screens = customer_12['SFORate-ScreenInformation'].mean()\n",
      "s2_infoarr = customer_12['SFORate-InformationBooths(Lower)'].mean()\n",
      "s2_infodep = customer_12['SFORate-InformationBooths(Upper)'].mean()\n",
      "s2_park = customer_12['SFORate-ParkingFacilities'].mean()\n",
      "info12 = s2_infoarr + s2_infodep\n",
      "info2 = info12/2\n",
      "mean2 = pd.DataFrame([s2_food,s2_shop,s2_signs,s2_walk,s2_screens,info2,s2_park], index=['Food','Shop',\n",
      "                                                                   'Signs','Walkways',\n",
      "                                                                   'Screens','Information','Parking'], columns=['2012'])"
     ],
     "language": "python",
     "metadata": {},
     "outputs": [],
     "prompt_number": 11
    },
    {
     "cell_type": "code",
     "collapsed": false,
     "input": [
      "s3_food = customer_13['SFORate-Restaurants'].mean()\n",
      "s3_shop = customer_13['SFORate-Stores'].mean()\n",
      "s3_signs = customer_13['SFORate-Signs'].mean()\n",
      "s3_walk = customer_13['SFORate-MovingWalkways'].mean()\n",
      "s3_screens = customer_13['SFORate-ScreenInformation'].mean()\n",
      "s3_infoarr = customer_13['SFORate-InformationBooths(Lower)'].mean()\n",
      "s3_infodep = customer_13['SFORate-InformationBooths(Upper)'].mean()\n",
      "s3_park = customer_13['SFORate-ParkingFacilities'].mean()\n",
      "info13 = s3_infoarr + s3_infodep\n",
      "info3 = info13/2\n",
      "mean3 = pd.DataFrame([s3_food,s3_shop,s3_signs,s3_walk,s3_screens,info3,s3_park], index=['Food','Shop',\n",
      "                                                                   'Signs','Walkways',\n",
      "                                                                   'Screens','Information','Parking'], columns=['2013'])"
     ],
     "language": "python",
     "metadata": {},
     "outputs": [],
     "prompt_number": 12
    },
    {
     "cell_type": "markdown",
     "metadata": {},
     "source": [
      "<b>Data Merging<b>"
     ]
    },
    {
     "cell_type": "markdown",
     "metadata": {},
     "source": [
      "After calculating the aggregation we merged the 3 years of amenities data which displaye the mean of each amenities of SFO Airport\n",
      "over a span of three years"
     ]
    },
    {
     "cell_type": "code",
     "collapsed": false,
     "input": [
      "merged_surveys = pd.concat([mean1,mean2,mean3],axis=1)"
     ],
     "language": "python",
     "metadata": {},
     "outputs": [],
     "prompt_number": 13
    },
    {
     "cell_type": "code",
     "collapsed": false,
     "input": [
      "merged_surveys"
     ],
     "language": "python",
     "metadata": {},
     "outputs": [
      {
       "html": [
        "<div style=\"max-height:1000px;max-width:1500px;overflow:auto;\">\n",
        "<table border=\"1\" class=\"dataframe\">\n",
        "  <thead>\n",
        "    <tr style=\"text-align: right;\">\n",
        "      <th></th>\n",
        "      <th>2011</th>\n",
        "      <th>2012</th>\n",
        "      <th>2013</th>\n",
        "    </tr>\n",
        "  </thead>\n",
        "  <tbody>\n",
        "    <tr>\n",
        "      <th>Food</th>\n",
        "      <td> 3.573119</td>\n",
        "      <td> 3.643389</td>\n",
        "      <td> 3.600707</td>\n",
        "    </tr>\n",
        "    <tr>\n",
        "      <th>Shop</th>\n",
        "      <td> 3.553689</td>\n",
        "      <td> 3.620469</td>\n",
        "      <td> 3.593336</td>\n",
        "    </tr>\n",
        "    <tr>\n",
        "      <th>Signs</th>\n",
        "      <td> 3.958967</td>\n",
        "      <td> 4.054199</td>\n",
        "      <td> 3.992230</td>\n",
        "    </tr>\n",
        "    <tr>\n",
        "      <th>Walkways</th>\n",
        "      <td> 4.039290</td>\n",
        "      <td> 4.130547</td>\n",
        "      <td> 4.087632</td>\n",
        "    </tr>\n",
        "    <tr>\n",
        "      <th>Screens</th>\n",
        "      <td> 4.014673</td>\n",
        "      <td> 4.088515</td>\n",
        "      <td> 4.065065</td>\n",
        "    </tr>\n",
        "    <tr>\n",
        "      <th>Information</th>\n",
        "      <td> 3.749747</td>\n",
        "      <td> 3.822120</td>\n",
        "      <td> 3.807915</td>\n",
        "    </tr>\n",
        "    <tr>\n",
        "      <th>Parking</th>\n",
        "      <td> 3.771387</td>\n",
        "      <td> 3.795331</td>\n",
        "      <td> 3.927615</td>\n",
        "    </tr>\n",
        "  </tbody>\n",
        "</table>\n",
        "</div>"
       ],
       "metadata": {},
       "output_type": "pyout",
       "prompt_number": 14,
       "text": [
        "                 2011      2012      2013\n",
        "Food         3.573119  3.643389  3.600707\n",
        "Shop         3.553689  3.620469  3.593336\n",
        "Signs        3.958967  4.054199  3.992230\n",
        "Walkways     4.039290  4.130547  4.087632\n",
        "Screens      4.014673  4.088515  4.065065\n",
        "Information  3.749747  3.822120  3.807915\n",
        "Parking      3.771387  3.795331  3.927615"
       ]
      }
     ],
     "prompt_number": 14
    },
    {
     "cell_type": "markdown",
     "metadata": {},
     "source": [
      "<b>Visualization<b>"
     ]
    },
    {
     "cell_type": "markdown",
     "metadata": {},
     "source": [
      "Visualization will help us looking into the data more clearly.We have merged the survey data by calculating mean, and plotted the colormap\n",
      "where on X-axis we have put the various SFO Amenities versus on Y-axis Mean Ratings which we calculated above and plotted over the \n",
      "three years of Customer Survey data"
     ]
    },
    {
     "cell_type": "code",
     "collapsed": false,
     "input": [
      "ms = merged_surveys.plot(lw=3,alpha=.70,colormap='jet')\n",
      "ms.grid(False,which='minor')\n",
      "ms.legend(loc='upper center',ncol=4)\n",
      "ms.set_xlabel('Amenities')\n",
      "ms.set_ylabel('Mean Ratings')\n",
      "ms.set_ylim((3.5,4.2));"
     ],
     "language": "python",
     "metadata": {},
     "outputs": [
      {
       "metadata": {},
       "output_type": "display_data",
       "png": "[encoded data removed]",
       "text": [
        "<matplotlib.figure.Figure at 0x179a76d8>"
       ]
      }
     ],
     "prompt_number": 15
    },
    {
     "cell_type": "markdown",
     "metadata": {},
     "source": [
      "As you can see, only parking has had a consistent, material improvement over the years. This is in line with the construction of a new terminal which was accompanied by a new parking structure to handle increased traffic."
     ]
    },
    {
     "cell_type": "code",
     "collapsed": false,
     "input": [
      "merged_surveys.plot(kind='bar', ylim=(3.5,4.2));"
     ],
     "language": "python",
     "metadata": {},
     "outputs": [
      {
       "metadata": {},
       "output_type": "display_data",
       "png": "[encoded data removed]",
       "text": [
        "<matplotlib.figure.Figure at 0x17b908d0>"
       ]
      }
     ],
     "prompt_number": 16
    },
    {
     "cell_type": "markdown",
     "metadata": {},
     "source": [
      "As you can see in tha above bar, in 2013, there was a slight fall in the rankings, leading to SFO unveiling a 10-Year Capital Improvement Plan, including a renovation of terminals and the creation of a new air traffic control tower.<p>\n",
      "The decision of building a new terminal and parking structures is valid as the data shows a constant increase in the total passenger count over the last 9 Years and there will definitely be a problem of handling that demand. <p>\n",
      "Moreover In this year 2014, SFO won the Travel Awards Honor Renovations award, reflecting this fact."
     ]
    },
    {
     "cell_type": "markdown",
     "metadata": {},
     "source": [
      "#Question 3: SFO Cleanliness"
     ]
    },
    {
     "cell_type": "markdown",
     "metadata": {},
     "source": [
      "Now that we know that the features of SFO are great, how are their day to day maintenance? To calculate that first we cleaned the data"
     ]
    },
    {
     "cell_type": "code",
     "collapsed": false,
     "input": [
      "customer['Year'] = pd.Series(2011,index=customer.index)"
     ],
     "language": "python",
     "metadata": {},
     "outputs": [],
     "prompt_number": 17
    },
    {
     "cell_type": "code",
     "collapsed": false,
     "input": [
      "homenames = ['San Francisco County','San Mateo County','Alameda County','Santa Clara County','Contra Costa County',\n",
      "                                             'Marin County','Sonoma County','Solano County','Napa County','Other California and Western US',\n",
      "                                             'Midwestern US','Eastern US','Other North America','Central/South America','Europe',\n",
      "                                             'Asia','Middle East','Africa','Australia/New Zealand','County/city not specified but from Bay Area','Blank/unknown']\n",
      "USAnames = ['San Francisco County','San Mateo County','Alameda County','Santa Clara County','Contra Costa County',\n",
      "            'Marin County','Sonoma County','Solano County','Napa County','Other California and Western US',\n",
      "            'Midwestern US','Eastern US','County/city not specified but from Bay Area']\n",
      "Intnames = ['Other North America','Central/South America','Europe','Asia','Middle East',\n",
      "            'Africa','Australia/New Zealand']\n"
     ],
     "language": "python",
     "metadata": {},
     "outputs": [],
     "prompt_number": 18
    },
    {
     "cell_type": "markdown",
     "metadata": {},
     "source": [
      "Cleaned up the airlines, faceted home locations by international and domestic, replaced blank and useless data in the dataframe with nulls, and averaged it."
     ]
    },
    {
     "cell_type": "code",
     "collapsed": false,
     "input": [
      "clean = customer[['Airline','SFOClean-BoardingAreas','SFOClean-Parking','SFOClean-AirTrain','SFOClean-RentalCarCenter',\n",
      "                   'SFOClean-Restaurants','SFOClean-Restrooms','HomeLocation']]\n",
      "americanclean = clean[(clean['HomeLocation'].isin(USAnames))]\n",
      "foreignclean = clean[(clean['HomeLocation'].isin(Intnames))]"
     ],
     "language": "python",
     "metadata": {},
     "outputs": [],
     "prompt_number": 19
    },
    {
     "cell_type": "markdown",
     "metadata": {},
     "source": [
      "Then, we found the mean, and faceted it by country."
     ]
    },
    {
     "cell_type": "code",
     "collapsed": false,
     "input": [
      "testd = {'Everyone':round(clean['SFOClean-BoardingAreas'].mean(axis=1),4), \n",
      "'Americans':round(americanclean['SFOClean-BoardingAreas'].mean(axis=1),4), \n",
      "'Foreigners':round(foreignclean['SFOClean-BoardingAreas'].mean(axis=1),4)}"
     ],
     "language": "python",
     "metadata": {},
     "outputs": [],
     "prompt_number": 20
    },
    {
     "cell_type": "code",
     "collapsed": false,
     "input": [
      "plt.bar(range(len(testd)),testd.values(),align='center',color='y')\n",
      "plt.xticks(range(len(testd)),testd.keys())\n",
      "plt.show;"
     ],
     "language": "python",
     "metadata": {},
     "outputs": [
      {
       "metadata": {},
       "output_type": "display_data",
       "png": "[encoded data removed]",
       "text": [
        "<matplotlib.figure.Figure at 0x17c07748>"
       ]
      }
     ],
     "prompt_number": 21
    },
    {
     "cell_type": "markdown",
     "metadata": {},
     "source": [
      "From the Bar Graph we can see that the mean for Overall, Americans and Foreigners are very close, which shows the consisitency of SFO Airport\n",
      "\n",
      "Following this, we expanded out the mean, to find out which sections of the airport are cleanest and which are dirtiest"
     ]
    },
    {
     "cell_type": "code",
     "collapsed": false,
     "input": [
      "ma = customer['SFOClean-BoardingAreas'].mean()\n",
      "mb = customer['SFOClean-Parking'].mean()\n",
      "mc = customer['SFOClean-AirTrain'].mean()\n",
      "md = customer['SFOClean-RentalCarCenter'].mean()\n",
      "me = customer['SFOClean-Restaurants'].mean()\n",
      "mf = customer['SFOClean-Restrooms'].mean()\n",
      "means = pd.DataFrame([ma,mb,mc,md,me,mf], index=['Boarding Areas','Parking Garage',\n",
      "                                                                   'AirTrain','Airport Rental Car',\n",
      "                                                                   'Airport Restaurants','Restrooms'], columns=['All Average Score'])"
     ],
     "language": "python",
     "metadata": {},
     "outputs": [],
     "prompt_number": 22
    },
    {
     "cell_type": "code",
     "collapsed": false,
     "input": [
      "meana = americanclean['SFOClean-BoardingAreas'].mean()\n",
      "meanb = americanclean['SFOClean-Parking'].mean()\n",
      "meanc = americanclean['SFOClean-AirTrain'].mean()\n",
      "meand = americanclean['SFOClean-RentalCarCenter'].mean()\n",
      "meane = americanclean['SFOClean-Restaurants'].mean()\n",
      "meanf = americanclean['SFOClean-Restrooms'].mean()\n",
      "americanmeans = pd.DataFrame([meana,meanb,meanc,meand,meane,meanf], index=['Boarding Areas','Parking Garage',\n",
      "                                                                   'AirTrain','Airport Rental Car',\n",
      "                                                                   'Airport Restaurants','Restrooms'], columns=['USA Average Score'])"
     ],
     "language": "python",
     "metadata": {},
     "outputs": [],
     "prompt_number": 23
    },
    {
     "cell_type": "code",
     "collapsed": false,
     "input": [
      "inta = foreignclean['SFOClean-BoardingAreas'].mean()\n",
      "intb = foreignclean['SFOClean-Parking'].mean()\n",
      "intc = foreignclean['SFOClean-AirTrain'].mean()\n",
      "intd = foreignclean['SFOClean-RentalCarCenter'].mean()\n",
      "inte = foreignclean['SFOClean-Restaurants'].mean()\n",
      "intf = foreignclean['SFOClean-Restrooms'].mean()\n",
      "intmeans = pd.DataFrame([inta,intb,intc,intd,inte,intf], index=['Boarding Areas','Parking Garage',\n",
      "                                                                   'AirTrain','Airport Rental Car',\n",
      "                                                                   'Airport Restaurants','Restrooms'], columns=['Intl Average Score'])"
     ],
     "language": "python",
     "metadata": {},
     "outputs": [],
     "prompt_number": 24
    },
    {
     "cell_type": "code",
     "collapsed": false,
     "input": [
      "allmeans = pd.concat([means,americanmeans,intmeans], axis=1)"
     ],
     "language": "python",
     "metadata": {},
     "outputs": [],
     "prompt_number": 25
    },
    {
     "cell_type": "code",
     "collapsed": false,
     "input": [
      "allmeans"
     ],
     "language": "python",
     "metadata": {},
     "outputs": [
      {
       "html": [
        "<div style=\"max-height:1000px;max-width:1500px;overflow:auto;\">\n",
        "<table border=\"1\" class=\"dataframe\">\n",
        "  <thead>\n",
        "    <tr style=\"text-align: right;\">\n",
        "      <th></th>\n",
        "      <th>All Average Score</th>\n",
        "      <th>USA Average Score</th>\n",
        "      <th>Intl Average Score</th>\n",
        "    </tr>\n",
        "  </thead>\n",
        "  <tbody>\n",
        "    <tr>\n",
        "      <th>Boarding Areas</th>\n",
        "      <td> 4.255145</td>\n",
        "      <td> 4.242542</td>\n",
        "      <td> 4.346296</td>\n",
        "    </tr>\n",
        "    <tr>\n",
        "      <th>Parking Garage</th>\n",
        "      <td> 3.982891</td>\n",
        "      <td> 3.982036</td>\n",
        "      <td> 4.000000</td>\n",
        "    </tr>\n",
        "    <tr>\n",
        "      <th>AirTrain</th>\n",
        "      <td> 4.229265</td>\n",
        "      <td> 4.239377</td>\n",
        "      <td> 4.184211</td>\n",
        "    </tr>\n",
        "    <tr>\n",
        "      <th>Airport Rental Car</th>\n",
        "      <td> 3.982857</td>\n",
        "      <td> 3.987141</td>\n",
        "      <td> 3.964539</td>\n",
        "    </tr>\n",
        "    <tr>\n",
        "      <th>Airport Restaurants</th>\n",
        "      <td> 4.037820</td>\n",
        "      <td> 4.051546</td>\n",
        "      <td> 3.988701</td>\n",
        "    </tr>\n",
        "    <tr>\n",
        "      <th>Restrooms</th>\n",
        "      <td> 4.020513</td>\n",
        "      <td> 4.027168</td>\n",
        "      <td> 4.000000</td>\n",
        "    </tr>\n",
        "  </tbody>\n",
        "</table>\n",
        "</div>"
       ],
       "metadata": {},
       "output_type": "pyout",
       "prompt_number": 26,
       "text": [
        "                     All Average Score  USA Average Score  Intl Average Score\n",
        "Boarding Areas                4.255145           4.242542            4.346296\n",
        "Parking Garage                3.982891           3.982036            4.000000\n",
        "AirTrain                      4.229265           4.239377            4.184211\n",
        "Airport Rental Car            3.982857           3.987141            3.964539\n",
        "Airport Restaurants           4.037820           4.051546            3.988701\n",
        "Restrooms                     4.020513           4.027168            4.000000"
       ]
      }
     ],
     "prompt_number": 26
    },
    {
     "cell_type": "markdown",
     "metadata": {},
     "source": [
      "The above table shows the scores of various parameters of SFO Airport with respect to Overall, USA and International passengers \n",
      "where the mean is hovering between 3.9 to 4.34.\n",
      "\n",
      "Below is the Visualization of the above chart where we can clearly see that Boarding Areas is the cleanest across all three parameters with the highest mean of close to 4.35. Also, International passengers mean for Restrooms are less compared to Americans"
     ]
    },
    {
     "cell_type": "code",
     "collapsed": false,
     "input": [
      "allmeans.plot();"
     ],
     "language": "python",
     "metadata": {},
     "outputs": [
      {
       "metadata": {},
       "output_type": "display_data",
       "png": "[encoded data removed]",
       "text": [
        "<matplotlib.figure.Figure at 0x1798aac8>"
       ]
      }
     ],
     "prompt_number": 27
    },
    {
     "cell_type": "code",
     "collapsed": false,
     "input": [
      "allmeans.plot(kind='bar', ylim=(3.95,4.35));"
     ],
     "language": "python",
     "metadata": {},
     "outputs": [
      {
       "metadata": {},
       "output_type": "display_data",
       "png": "[encoded data removed]",
       "text": [
        "<matplotlib.figure.Figure at 0x193d80f0>"
       ]
      }
     ],
     "prompt_number": 28
    },
    {
     "cell_type": "markdown",
     "metadata": {},
     "source": [
      "The only area with a remote statistical different is the Boarding Areas. Perhaps international flyers think the Boarding Areas are cleanest because they are going home.<p>\n",
      "Now that we know how the areas compare, we decided to try something different - giving each home region a vote and finding the cleanest and dirtiest parts of the airport."
     ]
    },
    {
     "cell_type": "code",
     "collapsed": false,
     "input": [
      "countries = clean.groupby(['HomeLocation']).mean()"
     ],
     "language": "python",
     "metadata": {},
     "outputs": [],
     "prompt_number": 29
    },
    {
     "cell_type": "code",
     "collapsed": false,
     "input": [
      "countries = countries.rename(columns={'Q10A':'Boarding Areas',\n",
      "                          'Q10B':'Parking Garage',\n",
      "                          'Q10C':'AirTrain',\n",
      "                          'Q10D':'Airport Rental Car',\n",
      "                          'Q10E':'Airport Restaurants',\n",
      "                          'Q10F':'Restrooms'})\n",
      "countries"
     ],
     "language": "python",
     "metadata": {},
     "outputs": [
      {
       "html": [
        "<div style=\"max-height:1000px;max-width:1500px;overflow:auto;\">\n",
        "<table border=\"1\" class=\"dataframe\">\n",
        "  <thead>\n",
        "    <tr style=\"text-align: right;\">\n",
        "      <th></th>\n",
        "      <th>SFOClean-BoardingAreas</th>\n",
        "      <th>SFOClean-Parking</th>\n",
        "      <th>SFOClean-AirTrain</th>\n",
        "      <th>SFOClean-RentalCarCenter</th>\n",
        "      <th>SFOClean-Restaurants</th>\n",
        "      <th>SFOClean-Restrooms</th>\n",
        "    </tr>\n",
        "    <tr>\n",
        "      <th>HomeLocation</th>\n",
        "      <th></th>\n",
        "      <th></th>\n",
        "      <th></th>\n",
        "      <th></th>\n",
        "      <th></th>\n",
        "      <th></th>\n",
        "    </tr>\n",
        "  </thead>\n",
        "  <tbody>\n",
        "    <tr>\n",
        "      <th>Africa</th>\n",
        "      <td> 4.666667</td>\n",
        "      <td> 4.000000</td>\n",
        "      <td> 5.000000</td>\n",
        "      <td>      NaN</td>\n",
        "      <td> 4.000000</td>\n",
        "      <td> 4.333333</td>\n",
        "    </tr>\n",
        "    <tr>\n",
        "      <th>Alameda County</th>\n",
        "      <td> 4.362694</td>\n",
        "      <td> 3.968750</td>\n",
        "      <td> 4.232759</td>\n",
        "      <td> 4.035088</td>\n",
        "      <td> 4.165563</td>\n",
        "      <td> 4.112994</td>\n",
        "    </tr>\n",
        "    <tr>\n",
        "      <th>Asia</th>\n",
        "      <td> 4.225806</td>\n",
        "      <td> 3.800000</td>\n",
        "      <td> 4.046875</td>\n",
        "      <td> 3.833333</td>\n",
        "      <td> 3.858586</td>\n",
        "      <td> 3.874172</td>\n",
        "    </tr>\n",
        "    <tr>\n",
        "      <th>Australia/New Zealand</th>\n",
        "      <td> 4.232558</td>\n",
        "      <td> 4.500000</td>\n",
        "      <td> 4.500000</td>\n",
        "      <td> 4.000000</td>\n",
        "      <td> 4.115385</td>\n",
        "      <td> 4.000000</td>\n",
        "    </tr>\n",
        "    <tr>\n",
        "      <th>Blank/unknown</th>\n",
        "      <td> 4.192771</td>\n",
        "      <td> 3.973333</td>\n",
        "      <td> 4.162791</td>\n",
        "      <td> 3.958904</td>\n",
        "      <td> 3.919643</td>\n",
        "      <td> 3.959459</td>\n",
        "    </tr>\n",
        "    <tr>\n",
        "      <th>Central/South America</th>\n",
        "      <td> 4.607143</td>\n",
        "      <td> 4.000000</td>\n",
        "      <td> 4.625000</td>\n",
        "      <td> 4.571429</td>\n",
        "      <td> 4.058824</td>\n",
        "      <td> 4.000000</td>\n",
        "    </tr>\n",
        "    <tr>\n",
        "      <th>Contra Costa County</th>\n",
        "      <td> 4.346774</td>\n",
        "      <td> 3.934426</td>\n",
        "      <td> 4.125000</td>\n",
        "      <td> 3.902439</td>\n",
        "      <td> 4.069307</td>\n",
        "      <td> 4.085470</td>\n",
        "    </tr>\n",
        "    <tr>\n",
        "      <th>County/city not specified but from Bay Area</th>\n",
        "      <td> 4.236842</td>\n",
        "      <td> 4.190476</td>\n",
        "      <td> 4.350000</td>\n",
        "      <td> 4.375000</td>\n",
        "      <td> 4.259259</td>\n",
        "      <td> 4.000000</td>\n",
        "    </tr>\n",
        "    <tr>\n",
        "      <th>Eastern US</th>\n",
        "      <td> 4.297345</td>\n",
        "      <td> 4.241379</td>\n",
        "      <td> 4.334572</td>\n",
        "      <td> 4.085470</td>\n",
        "      <td> 4.101064</td>\n",
        "      <td> 4.041016</td>\n",
        "    </tr>\n",
        "    <tr>\n",
        "      <th>Europe</th>\n",
        "      <td> 4.353261</td>\n",
        "      <td> 4.173913</td>\n",
        "      <td> 4.136986</td>\n",
        "      <td> 3.940000</td>\n",
        "      <td> 3.939850</td>\n",
        "      <td> 4.035714</td>\n",
        "    </tr>\n",
        "    <tr>\n",
        "      <th>Marin County</th>\n",
        "      <td> 4.220339</td>\n",
        "      <td> 3.562500</td>\n",
        "      <td> 3.833333</td>\n",
        "      <td> 3.833333</td>\n",
        "      <td> 3.931818</td>\n",
        "      <td> 3.948276</td>\n",
        "    </tr>\n",
        "    <tr>\n",
        "      <th>Middle East</th>\n",
        "      <td> 4.400000</td>\n",
        "      <td>      NaN</td>\n",
        "      <td> 5.000000</td>\n",
        "      <td> 5.000000</td>\n",
        "      <td> 5.000000</td>\n",
        "      <td> 3.666667</td>\n",
        "    </tr>\n",
        "    <tr>\n",
        "      <th>Midwestern US</th>\n",
        "      <td> 4.201031</td>\n",
        "      <td> 3.970149</td>\n",
        "      <td> 4.289157</td>\n",
        "      <td> 3.895833</td>\n",
        "      <td> 4.011628</td>\n",
        "      <td> 4.047887</td>\n",
        "    </tr>\n",
        "    <tr>\n",
        "      <th>Napa County</th>\n",
        "      <td> 4.333333</td>\n",
        "      <td> 4.166667</td>\n",
        "      <td> 4.333333</td>\n",
        "      <td> 4.333333</td>\n",
        "      <td> 4.300000</td>\n",
        "      <td> 4.181818</td>\n",
        "    </tr>\n",
        "    <tr>\n",
        "      <th>Other California and Western US</th>\n",
        "      <td> 4.144231</td>\n",
        "      <td> 3.986547</td>\n",
        "      <td> 4.248021</td>\n",
        "      <td> 3.996296</td>\n",
        "      <td> 3.993902</td>\n",
        "      <td> 3.981735</td>\n",
        "    </tr>\n",
        "    <tr>\n",
        "      <th>Other North America</th>\n",
        "      <td> 4.459016</td>\n",
        "      <td> 4.117647</td>\n",
        "      <td> 4.305556</td>\n",
        "      <td> 4.000000</td>\n",
        "      <td> 4.173333</td>\n",
        "      <td> 4.121495</td>\n",
        "    </tr>\n",
        "    <tr>\n",
        "      <th>San Francisco County</th>\n",
        "      <td> 4.263158</td>\n",
        "      <td> 3.901235</td>\n",
        "      <td> 4.219895</td>\n",
        "      <td> 3.970588</td>\n",
        "      <td> 4.052434</td>\n",
        "      <td> 3.980707</td>\n",
        "    </tr>\n",
        "    <tr>\n",
        "      <th>San Mateo County</th>\n",
        "      <td> 4.229167</td>\n",
        "      <td> 3.812500</td>\n",
        "      <td> 4.025974</td>\n",
        "      <td> 3.750000</td>\n",
        "      <td> 3.993289</td>\n",
        "      <td> 4.016304</td>\n",
        "    </tr>\n",
        "    <tr>\n",
        "      <th>Santa Clara County</th>\n",
        "      <td> 4.356725</td>\n",
        "      <td> 4.078652</td>\n",
        "      <td> 4.153846</td>\n",
        "      <td> 4.019608</td>\n",
        "      <td> 4.112782</td>\n",
        "      <td> 4.100629</td>\n",
        "    </tr>\n",
        "    <tr>\n",
        "      <th>Solano County</th>\n",
        "      <td> 4.666667</td>\n",
        "      <td> 4.400000</td>\n",
        "      <td> 4.875000</td>\n",
        "      <td> 4.250000</td>\n",
        "      <td> 4.285714</td>\n",
        "      <td> 4.444444</td>\n",
        "    </tr>\n",
        "    <tr>\n",
        "      <th>Sonoma County</th>\n",
        "      <td> 4.339623</td>\n",
        "      <td> 3.913043</td>\n",
        "      <td> 4.117647</td>\n",
        "      <td> 3.769231</td>\n",
        "      <td> 4.131579</td>\n",
        "      <td> 4.040000</td>\n",
        "    </tr>\n",
        "  </tbody>\n",
        "</table>\n",
        "</div>"
       ],
       "metadata": {},
       "output_type": "pyout",
       "prompt_number": 30,
       "text": [
        "                                             SFOClean-BoardingAreas  \\\n",
        "HomeLocation                                                          \n",
        "Africa                                                     4.666667   \n",
        "Alameda County                                             4.362694   \n",
        "Asia                                                       4.225806   \n",
        "Australia/New Zealand                                      4.232558   \n",
        "Blank/unknown                                              4.192771   \n",
        "Central/South America                                      4.607143   \n",
        "Contra Costa County                                        4.346774   \n",
        "County/city not specified but from Bay Area                4.236842   \n",
        "Eastern US                                                 4.297345   \n",
        "Europe                                                     4.353261   \n",
        "Marin County                                               4.220339   \n",
        "Middle East                                                4.400000   \n",
        "Midwestern US                                              4.201031   \n",
        "Napa County                                                4.333333   \n",
        "Other California and Western US                            4.144231   \n",
        "Other North America                                        4.459016   \n",
        "San Francisco County                                       4.263158   \n",
        "San Mateo County                                           4.229167   \n",
        "Santa Clara County                                         4.356725   \n",
        "Solano County                                              4.666667   \n",
        "Sonoma County                                              4.339623   \n",
        "\n",
        "                                             SFOClean-Parking  \\\n",
        "HomeLocation                                                    \n",
        "Africa                                               4.000000   \n",
        "Alameda County                                       3.968750   \n",
        "Asia                                                 3.800000   \n",
        "Australia/New Zealand                                4.500000   \n",
        "Blank/unknown                                        3.973333   \n",
        "Central/South America                                4.000000   \n",
        "Contra Costa County                                  3.934426   \n",
        "County/city not specified but from Bay Area          4.190476   \n",
        "Eastern US                                           4.241379   \n",
        "Europe                                               4.173913   \n",
        "Marin County                                         3.562500   \n",
        "Middle East                                               NaN   \n",
        "Midwestern US                                        3.970149   \n",
        "Napa County                                          4.166667   \n",
        "Other California and Western US                      3.986547   \n",
        "Other North America                                  4.117647   \n",
        "San Francisco County                                 3.901235   \n",
        "San Mateo County                                     3.812500   \n",
        "Santa Clara County                                   4.078652   \n",
        "Solano County                                        4.400000   \n",
        "Sonoma County                                        3.913043   \n",
        "\n",
        "                                             SFOClean-AirTrain  \\\n",
        "HomeLocation                                                     \n",
        "Africa                                                5.000000   \n",
        "Alameda County                                        4.232759   \n",
        "Asia                                                  4.046875   \n",
        "Australia/New Zealand                                 4.500000   \n",
        "Blank/unknown                                         4.162791   \n",
        "Central/South America                                 4.625000   \n",
        "Contra Costa County                                   4.125000   \n",
        "County/city not specified but from Bay Area           4.350000   \n",
        "Eastern US                                            4.334572   \n",
        "Europe                                                4.136986   \n",
        "Marin County                                          3.833333   \n",
        "Middle East                                           5.000000   \n",
        "Midwestern US                                         4.289157   \n",
        "Napa County                                           4.333333   \n",
        "Other California and Western US                       4.248021   \n",
        "Other North America                                   4.305556   \n",
        "San Francisco County                                  4.219895   \n",
        "San Mateo County                                      4.025974   \n",
        "Santa Clara County                                    4.153846   \n",
        "Solano County                                         4.875000   \n",
        "Sonoma County                                         4.117647   \n",
        "\n",
        "                                             SFOClean-RentalCarCenter  \\\n",
        "HomeLocation                                                            \n",
        "Africa                                                            NaN   \n",
        "Alameda County                                               4.035088   \n",
        "Asia                                                         3.833333   \n",
        "Australia/New Zealand                                        4.000000   \n",
        "Blank/unknown                                                3.958904   \n",
        "Central/South America                                        4.571429   \n",
        "Contra Costa County                                          3.902439   \n",
        "County/city not specified but from Bay Area                  4.375000   \n",
        "Eastern US                                                   4.085470   \n",
        "Europe                                                       3.940000   \n",
        "Marin County                                                 3.833333   \n",
        "Middle East                                                  5.000000   \n",
        "Midwestern US                                                3.895833   \n",
        "Napa County                                                  4.333333   \n",
        "Other California and Western US                              3.996296   \n",
        "Other North America                                          4.000000   \n",
        "San Francisco County                                         3.970588   \n",
        "San Mateo County                                             3.750000   \n",
        "Santa Clara County                                           4.019608   \n",
        "Solano County                                                4.250000   \n",
        "Sonoma County                                                3.769231   \n",
        "\n",
        "                                             SFOClean-Restaurants  \\\n",
        "HomeLocation                                                        \n",
        "Africa                                                   4.000000   \n",
        "Alameda County                                           4.165563   \n",
        "Asia                                                     3.858586   \n",
        "Australia/New Zealand                                    4.115385   \n",
        "Blank/unknown                                            3.919643   \n",
        "Central/South America                                    4.058824   \n",
        "Contra Costa County                                      4.069307   \n",
        "County/city not specified but from Bay Area              4.259259   \n",
        "Eastern US                                               4.101064   \n",
        "Europe                                                   3.939850   \n",
        "Marin County                                             3.931818   \n",
        "Middle East                                              5.000000   \n",
        "Midwestern US                                            4.011628   \n",
        "Napa County                                              4.300000   \n",
        "Other California and Western US                          3.993902   \n",
        "Other North America                                      4.173333   \n",
        "San Francisco County                                     4.052434   \n",
        "San Mateo County                                         3.993289   \n",
        "Santa Clara County                                       4.112782   \n",
        "Solano County                                            4.285714   \n",
        "Sonoma County                                            4.131579   \n",
        "\n",
        "                                             SFOClean-Restrooms  \n",
        "HomeLocation                                                     \n",
        "Africa                                                 4.333333  \n",
        "Alameda County                                         4.112994  \n",
        "Asia                                                   3.874172  \n",
        "Australia/New Zealand                                  4.000000  \n",
        "Blank/unknown                                          3.959459  \n",
        "Central/South America                                  4.000000  \n",
        "Contra Costa County                                    4.085470  \n",
        "County/city not specified but from Bay Area            4.000000  \n",
        "Eastern US                                             4.041016  \n",
        "Europe                                                 4.035714  \n",
        "Marin County                                           3.948276  \n",
        "Middle East                                            3.666667  \n",
        "Midwestern US                                          4.047887  \n",
        "Napa County                                            4.181818  \n",
        "Other California and Western US                        3.981735  \n",
        "Other North America                                    4.121495  \n",
        "San Francisco County                                   3.980707  \n",
        "San Mateo County                                       4.016304  \n",
        "Santa Clara County                                     4.100629  \n",
        "Solano County                                          4.444444  \n",
        "Sonoma County                                          4.040000  "
       ]
      }
     ],
     "prompt_number": 30
    },
    {
     "cell_type": "code",
     "collapsed": false,
     "input": [
      "#Most clean sections\n",
      "countries.idxmax(axis=1).value_counts().plot(kind='bar',color='c');"
     ],
     "language": "python",
     "metadata": {},
     "outputs": [
      {
       "metadata": {},
       "output_type": "display_data",
       "png": "[encoded data removed]",
       "text": [
        "<matplotlib.figure.Figure at 0x1777c080>"
       ]
      }
     ],
     "prompt_number": 31
    },
    {
     "cell_type": "code",
     "collapsed": false,
     "input": [
      "#Most dirty sections\n",
      "countries.idxmin(axis=1).value_counts().plot(kind='bar');"
     ],
     "language": "python",
     "metadata": {},
     "outputs": [
      {
       "metadata": {},
       "output_type": "display_data",
       "png": "[encoded data removed]",
       "text": [
        "<matplotlib.figure.Figure at 0x17285e80>"
       ]
      }
     ],
     "prompt_number": 32
    },
    {
     "cell_type": "markdown",
     "metadata": {},
     "source": [
      "#Conclusion"
     ]
    },
    {
     "cell_type": "markdown",
     "metadata": {},
     "source": [
      "So what have we learned?"
     ]
    },
    {
     "cell_type": "markdown",
     "metadata": {},
     "source": [
      "SFO is growing, and will continue to grow. "
     ]
    },
    {
     "cell_type": "markdown",
     "metadata": {},
     "source": [
      "SFO has been consistently rated as a top tier airport, and it shows"
     ]
    },
    {
     "cell_type": "markdown",
     "metadata": {},
     "source": [
      "SFO, despite increases in passengers, has maintained its property well, and definitely shows that it belongs in the ranks of the best airports."
     ]
    }
   ],
   "metadata": {}
  }
 ]
}